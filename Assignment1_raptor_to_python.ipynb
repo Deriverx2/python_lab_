{
  "nbformat": 4,
  "nbformat_minor": 0,
  "metadata": {
    "colab": {
      "provenance": [],
      "authorship_tag": "ABX9TyNz7+r+DrXA4ARH+UuXxTzw",
      "include_colab_link": true
    },
    "kernelspec": {
      "name": "python3",
      "display_name": "Python 3"
    },
    "language_info": {
      "name": "python"
    }
  },
  "cells": [
    {
      "cell_type": "markdown",
      "metadata": {
        "id": "view-in-github",
        "colab_type": "text"
      },
      "source": [
        "<a href=\"https://colab.research.google.com/github/Deriverx2/python_lab_/blob/main/Assignment1_raptor_to_python.ipynb\" target=\"_parent\"><img src=\"https://colab.research.google.com/assets/colab-badge.svg\" alt=\"Open In Colab\"/></a>"
      ]
    },
    {
      "cell_type": "markdown",
      "source": [
        "Raptor to Python"
      ],
      "metadata": {
        "id": "GyB1GY6b26Ba"
      }
    },
    {
      "cell_type": "code",
      "source": [
        "#average of 3 numbers\n",
        "x=int(input(\"enter a number \"))\n",
        "y=int(input(\"enter a number \"))\n",
        "z=int(input(\"enter a number \"))\n",
        "avg=(x+y+z)/3\n",
        "print(\"average is \",avg)"
      ],
      "metadata": {
        "colab": {
          "base_uri": "https://localhost:8080/"
        },
        "id": "1pFyI37JmQtj",
        "outputId": "b3bab271-2283-488a-d9ac-f139c3bb8ebd"
      },
      "execution_count": null,
      "outputs": [
        {
          "output_type": "stream",
          "name": "stdout",
          "text": [
            "enter a number 12\n",
            "enter a number 12\n",
            "enter a number 12\n",
            "average is  12.0\n"
          ]
        }
      ]
    },
    {
      "cell_type": "code",
      "source": [
        "#area and perimeter of triangle\n",
        "x=int(input(\"enter side of triangle \"))\n",
        "y=int(input(\"enter side of triangle  \"))\n",
        "z=int(input(\"enter side of triangle \"))\n",
        "perimeter=x+y+z\n",
        "print(\"perimeter of triangle is\",perimeter)\n",
        "s=perimeter/2\n",
        "area=(s*(s-x)*(s-y)*(s-z))**0.5\n",
        "print(\"area of circle is\",area)"
      ],
      "metadata": {
        "id": "RLG8N_LRr9cf",
        "colab": {
          "base_uri": "https://localhost:8080/"
        },
        "outputId": "643952c5-c7ab-48dc-dfcd-555e202690c0"
      },
      "execution_count": null,
      "outputs": [
        {
          "output_type": "stream",
          "name": "stdout",
          "text": [
            "enter side of triangle 1\n",
            "enter side of triangle  1\n",
            "enter side of triangle 1\n",
            "perimeter of triangle is 3\n",
            "area of circle is 0.4330127018922193\n"
          ]
        }
      ]
    },
    {
      "cell_type": "code",
      "source": [
        " #area and circumference of a circle\n",
        " r=int(input(\"Enter radius of circle \"))\n",
        " pi=3.14 \n",
        " area=pi*r*r\n",
        " circum=2*pi*r\n",
        " print(\"area of cicle\",area)\n",
        " print(\"cicumference of cicle\",circum)"
      ],
      "metadata": {
        "colab": {
          "base_uri": "https://localhost:8080/"
        },
        "id": "5VeavTdD-qlE",
        "outputId": "12570807-b9d4-4133-b005-696ff555de44"
      },
      "execution_count": null,
      "outputs": [
        {
          "output_type": "stream",
          "name": "stdout",
          "text": [
            "enter radius of circle 10\n",
            "area of cicle 314.0\n",
            "cicumference of cicle 62.800000000000004\n"
          ]
        }
      ]
    },
    {
      "cell_type": "code",
      "source": [
        "#Convert time entered in seconds to hours,minutes and seconds\n",
        "t=int(input(\"Enter time in seconds \"))\n",
        "h= (t//3600)\n",
        "m= (t%3600)//60\n",
        "s= t-(h*600)-(m*60)\n",
        "print(\"Hour: \",h)\n",
        "print(\"Minutes: \",m)\n",
        "print(\"Seconds: \",s)"
      ],
      "metadata": {
        "id": "BW4VIWG4LjUu",
        "colab": {
          "base_uri": "https://localhost:8080/"
        },
        "outputId": "09ebd7fb-1061-45c1-df7b-c0924ebce03a"
      },
      "execution_count": null,
      "outputs": [
        {
          "output_type": "stream",
          "name": "stdout",
          "text": [
            "Enter time in seconds  400\n",
            "Hour:  0\n",
            "Minutes:  6\n",
            "Seconds:  40\n"
          ]
        }
      ]
    },
    {
      "cell_type": "code",
      "source": [
        "#interchange 2 unequal numbers without using third variable\n",
        "a=int(input(\"Enter number a=\"))\n",
        "b=int(input(\"Enter number b=\"))\n",
        "a=a+b\n",
        "b=a-b\n",
        "a=a-b\n",
        "print(\"a=\",a)\n",
        "print(\"b=\",b)"
      ],
      "metadata": {
        "id": "zVJRxnFxLjLH",
        "colab": {
          "base_uri": "https://localhost:8080/"
        },
        "outputId": "26bc1d84-137f-40e9-b61c-dcae326a5fe1"
      },
      "execution_count": null,
      "outputs": [
        {
          "output_type": "stream",
          "name": "stdout",
          "text": [
            "Enter number a=10\n",
            "Enter number b=11\n",
            "a= 11\n",
            "b= 10\n"
          ]
        }
      ]
    },
    {
      "cell_type": "code",
      "source": [
        "#arithmetic operations\n",
        "a=int(input(\"Enter number a=\"))\n",
        "b=int(input(\"Enter number b=\"))\n",
        "print(\"sum=\",a+b)\n",
        "print(\"difference=\",a-b)\n",
        "print(\"product=\",a*b)\n",
        "print(\"quotient=\",a//b)"
      ],
      "metadata": {
        "id": "_8jX-8uazvNm",
        "colab": {
          "base_uri": "https://localhost:8080/"
        },
        "outputId": "30b63fac-cca6-46f7-a2f9-f2d2b8916da5"
      },
      "execution_count": null,
      "outputs": [
        {
          "output_type": "stream",
          "name": "stdout",
          "text": [
            "Enter number a=11\n",
            "Enter number b=12\n",
            "sum= 23\n",
            "difference= -1\n",
            "product= 132\n",
            "quotient= 0\n"
          ]
        }
      ]
    },
    {
      "cell_type": "code",
      "source": [
        "#Convert days into year,month and days\n",
        "t=int(input(\"Enter number of days \"))\n",
        "year=t//365\n",
        "month=(t%365)//30\n",
        "days=(t-(year*365)-(month*30))\n",
        "print(\"year:\",year)\n",
        "print(\"Month:\",month)\n",
        "print(\"Day:\",days)"
      ],
      "metadata": {
        "colab": {
          "base_uri": "https://localhost:8080/"
        },
        "id": "423vxhzDRf8T",
        "outputId": "fe14869b-8ef7-40f8-9cb0-e8aac16b28b6"
      },
      "execution_count": null,
      "outputs": [
        {
          "output_type": "stream",
          "name": "stdout",
          "text": [
            "Enter number of days400\n",
            "year: 1\n",
            "Month: 1\n",
            "Day: 5\n"
          ]
        }
      ]
    },
    {
      "cell_type": "code",
      "source": [
        "#largest among two numbers\n",
        "a=int(input(\"Enter a number\"))\n",
        "b=int(input(\"Enter a number\"))\n",
        "if a<b:\n",
        "  print(b,\" is larger than \",a)\n",
        "elif a==b:\n",
        "  print(a,\" is equal to \",b)\n",
        "else:\n",
        "  print(a,\" is greater than\",b)"
      ],
      "metadata": {
        "id": "G-O0GsbuRfvE",
        "colab": {
          "base_uri": "https://localhost:8080/"
        },
        "outputId": "aaff95b5-6ee5-404d-e26e-e4839d7a604e"
      },
      "execution_count": null,
      "outputs": [
        {
          "output_type": "stream",
          "name": "stdout",
          "text": [
            "Enter a number10\n",
            "Enter a number12\n",
            "12  is larger than  10\n"
          ]
        }
      ]
    },
    {
      "cell_type": "code",
      "source": [
        "#Smallest of three numbers\n",
        "a=int(input(\"Enter a number \"))\n",
        "b=int(input(\"Enter a number \"))\n",
        "c=int(input(\"Enter a number \"))\n",
        "if a>b and c>b:\n",
        "  print(b,\" is the smallest number\")\n",
        "elif a>b and b>c:\n",
        "  print(c,\" is the smallest number\")\n",
        "else:\n",
        "  print(a,\" is the smallest number\")"
      ],
      "metadata": {
        "colab": {
          "base_uri": "https://localhost:8080/"
        },
        "id": "OCgJaSjLILWd",
        "outputId": "429fd463-d664-4dfa-f2b9-4bc92954b57d"
      },
      "execution_count": null,
      "outputs": [
        {
          "output_type": "stream",
          "name": "stdout",
          "text": [
            "Enter a number 10\n",
            "Enter a number 2\n",
            "Enter a number 4\n",
            "2  is the smallest number\n"
          ]
        }
      ]
    },
    {
      "cell_type": "code",
      "source": [
        "#check whether positive,negative or zero\n",
        "a=int(input(\"Enter a number \"))\n",
        "if a==0:\n",
        "  print(\"given number is zero\")\n",
        "elif a>0:\n",
        "  print(\"given number is positive\")\n",
        "else:\n",
        "  print(\"given number is negative\")"
      ],
      "metadata": {
        "colab": {
          "base_uri": "https://localhost:8080/"
        },
        "id": "NFp9neN1JcYi",
        "outputId": "6b444091-3dfd-4594-aaf1-45e81ae2d718"
      },
      "execution_count": null,
      "outputs": [
        {
          "output_type": "stream",
          "name": "stdout",
          "text": [
            "Enter a number0\n",
            "given number is zero\n"
          ]
        }
      ]
    },
    {
      "cell_type": "code",
      "source": [
        "#check whther a two digit number or not\n",
        "a=int(input(\"Enter a number \"))\n",
        "d=0\n",
        "if a/100>=1:\n",
        "  print(\"Given number is not a two digit number\")\n",
        "elif a/10>=1:\n",
        "  print(\"Given number is a two digit number\")\n",
        "else:\n",
        "  print(\"Given number is not a two digit number\")"
      ],
      "metadata": {
        "colab": {
          "base_uri": "https://localhost:8080/"
        },
        "id": "UdpleegUJ-oD",
        "outputId": "30b10c15-c706-4055-8ad3-146e74c094c3"
      },
      "execution_count": null,
      "outputs": [
        {
          "output_type": "stream",
          "name": "stdout",
          "text": [
            "Enter a number 100\n",
            "Given number is not a two digit number\n"
          ]
        }
      ]
    },
    {
      "cell_type": "code",
      "source": [
        "#whether a number is multiple of another\n",
        "a=int(input(\"Enter a number \"))\n",
        "b=int(input(\"Enter a number \"))\n",
        "f=a//b\n",
        "if a/b==f:\n",
        "  print(\"Given number is a multiple of the other\")\n",
        "else:\n",
        "  print(\"Given number is not a multiple of the other\")"
      ],
      "metadata": {
        "colab": {
          "base_uri": "https://localhost:8080/"
        },
        "id": "N3zKFD2I4G8D",
        "outputId": "5b889d6e-a988-4e72-f751-f6e16f8e4ba0"
      },
      "execution_count": null,
      "outputs": [
        {
          "output_type": "stream",
          "name": "stdout",
          "text": [
            "Enter a number 12\n",
            "Enter a number 3\n",
            "Given number is a multiple of the other\n"
          ]
        }
      ]
    },
    {
      "cell_type": "code",
      "source": [
        "#smallest digit in a two digit number\n",
        "a=int(input(\"Enter a two digit number \"))\n",
        "a1=a%10\n",
        "a2=(a-a1)%10\n",
        "if a1<a2:\n",
        "  print(a1,\" is the smallest digit\")\n",
        "else:\n",
        "  print(a2,\" is the smallest digit\")"
      ],
      "metadata": {
        "colab": {
          "base_uri": "https://localhost:8080/"
        },
        "id": "I46nddO746Ac",
        "outputId": "a8cb3df3-a1a2-4346-ef3f-9e5b167c7880"
      },
      "execution_count": null,
      "outputs": [
        {
          "output_type": "stream",
          "name": "stdout",
          "text": [
            "Enter a two digit number 10\n",
            "0  is the smallest digit\n"
          ]
        }
      ]
    },
    {
      "cell_type": "code",
      "source": [
        "#distance between two points on number line\n",
        "a=int(input(\"Enter a point on number line \"))\n",
        "b=int(input(\"Enter a point on number line \"))\n",
        "if a>0 and b>0:\n",
        "  d=a-b\n",
        "elif a<0 and b>0:\n",
        "  d=b-a\n",
        "else:\n",
        "  d=(b-a)*(-1)\n",
        "print(d,\" is the distance between given points\")"
      ],
      "metadata": {
        "colab": {
          "base_uri": "https://localhost:8080/"
        },
        "id": "5gAIrNL25gxY",
        "outputId": "6b610fb3-c8ca-463d-c66a-9a4113dd7f68"
      },
      "execution_count": null,
      "outputs": [
        {
          "output_type": "stream",
          "name": "stdout",
          "text": [
            "Enter a point on number line 1\n",
            "Enter a point on number line -1\n",
            "2  is the distance between given points\n"
          ]
        }
      ]
    },
    {
      "cell_type": "code",
      "source": [
        "#nature of solutions of quadratic equation\n",
        "a=int(input(\"Enter 'a' from equation \"))\n",
        "b=int(input(\"Enter 'b' from equation \"))\n",
        "c=int(input(\"Enter 'c' from equation \"))\n",
        "d=(b*b)-(4*a*c)\n",
        "if d>=0:\n",
        "  print(\"The given quadratic has real solutions\")\n",
        "else:\n",
        "  print(\"The given quadratic has no real solutions\")"
      ],
      "metadata": {
        "colab": {
          "base_uri": "https://localhost:8080/"
        },
        "id": "z6WvOZTF6Zf1",
        "outputId": "d083e3d6-69f7-40b0-9a2d-4f563381a985"
      },
      "execution_count": null,
      "outputs": [
        {
          "output_type": "stream",
          "name": "stdout",
          "text": [
            "Enter 'a' from equation 2\n",
            "Enter 'b' from equation 3\n",
            "Enter 'c' from equation 4\n",
            "The given quadratic has no real solutions\n"
          ]
        }
      ]
    },
    {
      "cell_type": "code",
      "source": [
        "#sum of 'n' natural numbers\n",
        "n=int(input(\"Enter the number of natural numbers \"))\n",
        "sum=(n*(n+1))/2\n",
        "print(\"sum of \",n,\" natural numbers is \",sum)"
      ],
      "metadata": {
        "colab": {
          "base_uri": "https://localhost:8080/"
        },
        "id": "iMxSslzS67aP",
        "outputId": "a943efd6-fe59-467a-d0d6-44a11cd520f8"
      },
      "execution_count": null,
      "outputs": [
        {
          "output_type": "stream",
          "name": "stdout",
          "text": [
            "Enter the number of natural numbers 10\n",
            "sum of  10  natural numbers is  55.0\n"
          ]
        }
      ]
    },
    {
      "cell_type": "code",
      "source": [
        "#sum of factors of number\n",
        "a=int(input(\"Enter a number \"))\n",
        "i=1\n",
        "sum=0\n",
        "while i<=a/2:\n",
        "  if a%i==0:\n",
        "    sum=sum+i\n",
        "  i=i+1\n",
        "sum=sum+a\n",
        "print(\"sum of factors of \",n,\" is \",sum)"
      ],
      "metadata": {
        "colab": {
          "base_uri": "https://localhost:8080/"
        },
        "id": "_lXisvPD8bS1",
        "outputId": "81bfa74d-8768-4e5e-db7b-463e402e28a2"
      },
      "execution_count": null,
      "outputs": [
        {
          "output_type": "stream",
          "name": "stdout",
          "text": [
            "Enter a number 10\n",
            "sum of factors of  10  is  18\n"
          ]
        }
      ]
    },
    {
      "cell_type": "code",
      "source": [
        "#arithmetic sequence\n",
        "a=int(input(\"Enter the first element \"))\n",
        "d=int(input(\"Enter the common difference \"))\n",
        "n=int(input(\"Enter the number of terms required \"))\n",
        "an=a\n",
        "while n>0:\n",
        "  print(an)\n",
        "  n=n-1\n",
        "  an=an+d"
      ],
      "metadata": {
        "id": "he8u5Fuw9b7O",
        "colab": {
          "base_uri": "https://localhost:8080/"
        },
        "outputId": "f8c821af-a46b-477c-c2d4-45f91e55f14a"
      },
      "execution_count": 10,
      "outputs": [
        {
          "output_type": "stream",
          "name": "stdout",
          "text": [
            "Enter the first element 1\n",
            "Enter the common difference 1\n",
            "Enter the number of terms required 10\n",
            "1\n",
            "2\n",
            "3\n",
            "4\n",
            "5\n",
            "6\n",
            "7\n",
            "8\n",
            "9\n",
            "10\n"
          ]
        }
      ]
    },
    {
      "cell_type": "code",
      "source": [
        "#first 'n' odd numbers\n",
        "n=int(input(\"Enter number of digits required \"))\n",
        "i=1\n",
        "while i<n*2:\n",
        "  print(i)\n",
        "  i=i+2"
      ],
      "metadata": {
        "id": "hP4Sjp2v-GzQ",
        "colab": {
          "base_uri": "https://localhost:8080/"
        },
        "outputId": "6ccecced-e532-4b48-966c-733393f4db5e"
      },
      "execution_count": 11,
      "outputs": [
        {
          "output_type": "stream",
          "name": "stdout",
          "text": [
            "Enter number of digits required 10\n",
            "1\n",
            "3\n",
            "5\n",
            "7\n",
            "9\n",
            "11\n",
            "13\n",
            "15\n",
            "17\n",
            "19\n"
          ]
        }
      ]
    },
    {
      "cell_type": "code",
      "source": [
        "#factorial of a number\n",
        "num=int(input(\"Enter the integer \"))\n",
        "i=1\n",
        "pro=i\n",
        "if num>1:\n",
        "  while i<=num:\n",
        "    pro=pro*i\n",
        "    i=i+1\n",
        "  print(\"factorial of \",num,\" is \",pro)\n",
        "elif num==0 or num==1:\n",
        "  print(\"factorial of \",num,\" is 1\",)"
      ],
      "metadata": {
        "colab": {
          "base_uri": "https://localhost:8080/"
        },
        "id": "MFqPm_bl-sZv",
        "outputId": "0b943510-91a4-42b6-82f6-259fc4b8511c"
      },
      "execution_count": null,
      "outputs": [
        {
          "output_type": "stream",
          "name": "stdout",
          "text": [
            "Enter the integer 1\n",
            "factorial of  1  is 1\n"
          ]
        }
      ]
    },
    {
      "cell_type": "code",
      "source": [
        "#reverse of a number\n",
        "num=int(input(\"Enter a number \"))\n",
        "s=num\n",
        "p=0\n",
        "while s>0:\n",
        "  p=p*10+s%10\n",
        "  s=s//10\n",
        "print(p)"
      ],
      "metadata": {
        "colab": {
          "base_uri": "https://localhost:8080/"
        },
        "id": "MZ6_i1dVjp0U",
        "outputId": "b68349b3-1e2a-4df6-fa14-98d9c24d1f66"
      },
      "execution_count": null,
      "outputs": [
        {
          "output_type": "stream",
          "name": "stdout",
          "text": [
            "Enter a number 123\n",
            "321\n"
          ]
        }
      ]
    },
    {
      "cell_type": "code",
      "source": [
        "#palindromic number\n",
        "num=int(input(\"Enter a number \"))\n",
        "s=num\n",
        "p=0\n",
        "while s>0:\n",
        "  p=p*10+s%10\n",
        "  s=s//10\n",
        "if num==p:\n",
        "  print(\"Given number is palindromic\")\n",
        "else:\n",
        "  print(\"Given number is not palindromic\")"
      ],
      "metadata": {
        "colab": {
          "base_uri": "https://localhost:8080/"
        },
        "id": "Dx8U0LEn-kzL",
        "outputId": "ad2d454f-8b18-4ef6-9f12-9071e1c71ba9"
      },
      "execution_count": null,
      "outputs": [
        {
          "output_type": "stream",
          "name": "stdout",
          "text": [
            "Enter a number 101\n",
            "Given number is palindromic\n"
          ]
        }
      ]
    },
    {
      "cell_type": "code",
      "source": [
        "#armstrong number\n",
        "num=int(input(\"Enter a number \"))\n",
        "s=num\n",
        "p=0\n",
        "r=0\n",
        "while s>0:\n",
        "  p=p*10+s%10\n",
        "  s=s//10\n",
        "  r=r+1\n",
        "s=num\n",
        "p=0\n",
        "while s>0:\n",
        "  p=p+(s%10)**r\n",
        "  s=s//10\n",
        "if p==num:\n",
        "  print(\"given number is an armstrong number\")\n",
        "else:\n",
        "  print(\"Given number is not an armstrong number\")"
      ],
      "metadata": {
        "colab": {
          "base_uri": "https://localhost:8080/"
        },
        "id": "4HRJXUj4D9Vb",
        "outputId": "cd0574b0-14f7-4cd1-caf5-fc7c0cb432df"
      },
      "execution_count": null,
      "outputs": [
        {
          "output_type": "stream",
          "name": "stdout",
          "text": [
            "Enter a number 9474\n",
            "given number is an armstrong number\n"
          ]
        }
      ]
    },
    {
      "cell_type": "code",
      "source": [
        "#fibonacci series\n",
        "x=int(input(\"Enter number of terms \"))\n",
        "if x==1:\n",
        "  print(0)\n",
        "elif x==2:\n",
        "  print(0,\",\",1)\n",
        "elif x>2:\n",
        "  n1=0\n",
        "  n2=1\n",
        "  print(n1)\n",
        "  print(n2)\n",
        "  while x>2:\n",
        "    n3=n1+n2\n",
        "    n1=n2\n",
        "    n2=n3\n",
        "    x=x-1\n",
        "    print(n3)"
      ],
      "metadata": {
        "colab": {
          "base_uri": "https://localhost:8080/"
        },
        "id": "VZWJl9r0HF9y",
        "outputId": "32780219-0779-4ae6-cd66-7393d5df93fe"
      },
      "execution_count": null,
      "outputs": [
        {
          "output_type": "stream",
          "name": "stdout",
          "text": [
            "Enter number of terms 5\n",
            "0\n",
            "1\n",
            "1\n",
            "2\n",
            "3\n"
          ]
        }
      ]
    },
    {
      "cell_type": "code",
      "source": [
        "#x^n using loops\n",
        "x=int(input(\"Enter number \"))\n",
        "n=int(input(\"Enter power \"))\n",
        "i=1\n",
        "p=x\n",
        "while i<n:\n",
        "  p=p*x\n",
        "  i=i+1\n",
        "print(p)"
      ],
      "metadata": {
        "colab": {
          "base_uri": "https://localhost:8080/"
        },
        "id": "Brjasz4GJvvX",
        "outputId": "80833afe-346f-4699-9b0e-d270aad44fbd"
      },
      "execution_count": null,
      "outputs": [
        {
          "output_type": "stream",
          "name": "stdout",
          "text": [
            "Enter number 10\n",
            "Enter power 10\n",
            "10000000000\n"
          ]
        }
      ]
    },
    {
      "cell_type": "code",
      "source": [
        "#GCD of two numbers\n",
        "a=int(input(\"Enter a number \"))\n",
        "b=int(input(\"Enter a number \"))\n",
        "i=1\n",
        "while i<=a/2 or i<=b/2:\n",
        "  if a%i==0 and b%i==0:\n",
        "    d=i\n",
        "  i=i+1\n",
        "print(\"GCD of \",a,\" & \",b,\" is \",d)"
      ],
      "metadata": {
        "id": "OYr7NBGtMavu",
        "colab": {
          "base_uri": "https://localhost:8080/"
        },
        "outputId": "1e2dc1c4-a2c0-4984-c93d-1f6172e2d511"
      },
      "execution_count": 12,
      "outputs": [
        {
          "output_type": "stream",
          "name": "stdout",
          "text": [
            "Enter a number 10\n",
            "Enter a number 5\n",
            "GCD of  10  &  5  is  5\n"
          ]
        }
      ]
    },
    {
      "cell_type": "code",
      "source": [
        "#checking if prime\n",
        "c=0\n",
        "n=int(input(\"Enter a number=\"))\n",
        "f=2\n",
        "while f<=n//2:\n",
        "  if n%f==0:\n",
        "    c=c+1\n",
        "    break\n",
        "  f=f+1\n",
        "if c==0:\n",
        "  print(n,\"is prime\")\n",
        "else:\n",
        "  print(n,\"is not prime\")"
      ],
      "metadata": {
        "id": "izLNg0tTgM8E",
        "colab": {
          "base_uri": "https://localhost:8080/"
        },
        "outputId": "72c2044b-50f7-4f64-eaa9-889b668ca365"
      },
      "execution_count": 13,
      "outputs": [
        {
          "output_type": "stream",
          "name": "stdout",
          "text": [
            "Enter a number=101\n",
            "101 is prime\n"
          ]
        }
      ]
    },
    {
      "cell_type": "code",
      "source": [
        "#sum of arithmetic series upto n terms\n",
        "a=int(input(\"Enter the first element \"))\n",
        "d=int(input(\"Enter the common difference \"))\n",
        "n=int(input(\"Enter the number of terms required \"))\n",
        "an=a\n",
        "sum=0\n",
        "while n>0:\n",
        "  sum=sum+an\n",
        "  n=n-1\n",
        "  an=an+d\n",
        "print(sum)"
      ],
      "metadata": {
        "colab": {
          "base_uri": "https://localhost:8080/"
        },
        "id": "_A5oO_ROWn_g",
        "outputId": "0922b704-e845-4e52-da91-aba2dfec61b5"
      },
      "execution_count": null,
      "outputs": [
        {
          "output_type": "stream",
          "name": "stdout",
          "text": [
            "Enter the first element 1\n",
            "Enter the common difference 1\n",
            "Enter the number of terms required 10\n",
            "55\n"
          ]
        }
      ]
    },
    {
      "cell_type": "code",
      "source": [
        "#decimal equivalent of a binary numbver\n",
        "binary=int(input(\"Enter a biinary number \"))\n",
        "i=0\n",
        "n=binary\n",
        "s=0\n",
        "while n>0:\n",
        "  s=s+(n%10)*(2**i)\n",
        "  n=n//10\n",
        "  i=i+1\n",
        "print(\"Decimal value=\",s)"
      ],
      "metadata": {
        "colab": {
          "base_uri": "https://localhost:8080/"
        },
        "id": "EwfnW6pSQdkd",
        "outputId": "ec33dd29-9a45-4995-ce4d-3e3bedf7a26e"
      },
      "execution_count": null,
      "outputs": [
        {
          "output_type": "stream",
          "name": "stdout",
          "text": [
            "Enter a biinary number 101001\n",
            "Decimal value= 41\n"
          ]
        }
      ]
    },
    {
      "cell_type": "code",
      "source": [
        "#check whether automorphic number(an integer whose square ends with the given integer)\n",
        "num=int(input(\"Enter a number \"))\n",
        "s=num\n",
        "p=0\n",
        "r=0\n",
        "while s>0:\n",
        "  p=p*10+s%10\n",
        "  s=s//10\n",
        "  r=r+1\n",
        "s=num*num\n",
        "p=s%(10**r)\n",
        "if num==p:\n",
        "  print(\"Given number is automorphic\")\n",
        "else:\n",
        "  print(\"Given number is not automorphic\")"
      ],
      "metadata": {
        "id": "HzCLgKoSWY-y",
        "colab": {
          "base_uri": "https://localhost:8080/"
        },
        "outputId": "8e1905db-32bf-4c8c-b39c-9200799b89d5"
      },
      "execution_count": null,
      "outputs": [
        {
          "output_type": "stream",
          "name": "stdout",
          "text": [
            "Enter a number 6\n",
            "Given number is automorphic\n"
          ]
        }
      ]
    }
  ]
}