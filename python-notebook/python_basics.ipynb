{
  "nbformat": 4,
  "nbformat_minor": 0,
  "metadata": {
    "colab": {
      "provenance": [],
      "authorship_tag": "ABX9TyMIn3yWQIf1AmLbVWfjZvru",
      "include_colab_link": true
    },
    "kernelspec": {
      "name": "python3",
      "display_name": "Python 3"
    },
    "language_info": {
      "name": "python"
    }
  },
  "cells": [
    {
      "cell_type": "markdown",
      "metadata": {
        "id": "view-in-github",
        "colab_type": "text"
      },
      "source": [
        "<a href=\"https://colab.research.google.com/github/Deriverx2/python_lab_/blob/main/python-notebook/python_basics.ipynb\" target=\"_parent\"><img src=\"https://colab.research.google.com/assets/colab-badge.svg\" alt=\"Open In Colab\"/></a>"
      ]
    },
    {
      "cell_type": "code",
      "execution_count": null,
      "metadata": {
        "colab": {
          "base_uri": "https://localhost:8080/"
        },
        "id": "oB7_wOHDa-KZ",
        "outputId": "8670ddf2-7856-403b-f5f2-2cf5114a5312"
      },
      "outputs": [
        {
          "output_type": "stream",
          "name": "stdout",
          "text": [
            "hello world\n"
          ]
        }
      ],
      "source": [
        "print('hello world')"
      ]
    },
    {
      "cell_type": "markdown",
      "source": [
        "datatypes"
      ],
      "metadata": {
        "id": "xfDGBKzGiRlg"
      }
    },
    {
      "cell_type": "code",
      "source": [
        "a=5\n",
        "print (type(a))"
      ],
      "metadata": {
        "colab": {
          "base_uri": "https://localhost:8080/"
        },
        "id": "oG-yyJ5kbiZk",
        "outputId": "a7265ecc-5013-4ae2-bd4b-9cff41de18d4"
      },
      "execution_count": null,
      "outputs": [
        {
          "output_type": "stream",
          "name": "stdout",
          "text": [
            "<class 'int'>\n"
          ]
        }
      ]
    },
    {
      "cell_type": "code",
      "source": [
        "a=5.5\n",
        "print(type(a))"
      ],
      "metadata": {
        "colab": {
          "base_uri": "https://localhost:8080/"
        },
        "id": "6CCiST6KcKcg",
        "outputId": "ce66b525-a0dc-4b6d-ddd6-52f2e352e1d0"
      },
      "execution_count": null,
      "outputs": [
        {
          "output_type": "stream",
          "name": "stdout",
          "text": [
            "<class 'float'>\n"
          ]
        }
      ]
    },
    {
      "cell_type": "code",
      "source": [
        "print(type(\"hello\"))"
      ],
      "metadata": {
        "id": "gMF_7YG9crNH",
        "colab": {
          "base_uri": "https://localhost:8080/"
        },
        "outputId": "d9b8c9d4-5e85-4f44-d5e0-c6096186ef61"
      },
      "execution_count": null,
      "outputs": [
        {
          "output_type": "stream",
          "name": "stdout",
          "text": [
            "<class 'str'>\n"
          ]
        }
      ]
    },
    {
      "cell_type": "code",
      "source": [
        "b=True\n",
        "print(b)\n",
        "print(type(b))"
      ],
      "metadata": {
        "colab": {
          "base_uri": "https://localhost:8080/"
        },
        "id": "FmglsOLxdL8s",
        "outputId": "a2087aca-4d29-472c-cd42-10ee68b76203"
      },
      "execution_count": null,
      "outputs": [
        {
          "output_type": "stream",
          "name": "stdout",
          "text": [
            "True\n",
            "<class 'bool'>\n"
          ]
        }
      ]
    },
    {
      "cell_type": "code",
      "source": [
        "t=5+3j\n",
        "print(type(t))"
      ],
      "metadata": {
        "colab": {
          "base_uri": "https://localhost:8080/"
        },
        "id": "ksp72Pg7df7u",
        "outputId": "e0b3c462-98a3-4ec6-b218-121dcb19cd9d"
      },
      "execution_count": null,
      "outputs": [
        {
          "output_type": "stream",
          "name": "stdout",
          "text": [
            "<class 'complex'>\n"
          ]
        }
      ]
    },
    {
      "cell_type": "markdown",
      "source": [
        "arithmetic operators"
      ],
      "metadata": {
        "id": "FTH0p5CAiD3S"
      }
    },
    {
      "cell_type": "code",
      "source": [
        "a=7\n",
        "b=8\n",
        "sum=a+b\n",
        "print(sum)"
      ],
      "metadata": {
        "colab": {
          "base_uri": "https://localhost:8080/"
        },
        "id": "1R9vIX-gecup",
        "outputId": "23248d73-f32a-4df4-a03d-8c85d0cd2e25"
      },
      "execution_count": null,
      "outputs": [
        {
          "output_type": "stream",
          "name": "stdout",
          "text": [
            "15\n"
          ]
        }
      ]
    },
    {
      "cell_type": "code",
      "source": [
        "a=9\n",
        "b=1\n",
        "diff=a-b\n",
        "print(diff)"
      ],
      "metadata": {
        "colab": {
          "base_uri": "https://localhost:8080/"
        },
        "id": "oFFegyNlenbu",
        "outputId": "60c47fed-b351-4da8-c838-1c876901d9df"
      },
      "execution_count": null,
      "outputs": [
        {
          "output_type": "stream",
          "name": "stdout",
          "text": [
            "8\n"
          ]
        }
      ]
    },
    {
      "cell_type": "code",
      "source": [
        "a=2\n",
        "b=3\n",
        "product=a*b\n",
        "print(product)"
      ],
      "metadata": {
        "colab": {
          "base_uri": "https://localhost:8080/"
        },
        "id": "NzquRrm4jDfc",
        "outputId": "6bd55dcc-b532-42df-d5d2-50365d940228"
      },
      "execution_count": null,
      "outputs": [
        {
          "output_type": "stream",
          "name": "stdout",
          "text": [
            "6\n"
          ]
        }
      ]
    },
    {
      "cell_type": "code",
      "source": [
        "a=10\n",
        "b=3\n",
        "quotient=a//b\n",
        "print(quotient)"
      ],
      "metadata": {
        "colab": {
          "base_uri": "https://localhost:8080/"
        },
        "id": "GSrvqVU6jNjQ",
        "outputId": "d8c41b92-76d5-41aa-a5ba-550343daf22b"
      },
      "execution_count": null,
      "outputs": [
        {
          "output_type": "stream",
          "name": "stdout",
          "text": [
            "3\n"
          ]
        }
      ]
    },
    {
      "cell_type": "code",
      "source": [
        "a=1\n",
        "b=2\n",
        "rem=b%a\n",
        "print(rem)"
      ],
      "metadata": {
        "colab": {
          "base_uri": "https://localhost:8080/"
        },
        "id": "W2GzOViXkPXO",
        "outputId": "e9a22100-a132-4e3b-f76e-16ede8b13990"
      },
      "execution_count": null,
      "outputs": [
        {
          "output_type": "stream",
          "name": "stdout",
          "text": [
            "0\n"
          ]
        }
      ]
    },
    {
      "cell_type": "code",
      "source": [
        "a=2\n",
        "b=5\n",
        "power=a**b\n",
        "print(power)"
      ],
      "metadata": {
        "colab": {
          "base_uri": "https://localhost:8080/"
        },
        "id": "KF8ujgKCl7Om",
        "outputId": "be13c5fd-983b-477b-b08f-d89de502891d"
      },
      "execution_count": null,
      "outputs": [
        {
          "output_type": "stream",
          "name": "stdout",
          "text": [
            "32\n"
          ]
        }
      ]
    },
    {
      "cell_type": "code",
      "source": [
        "a=4\n",
        "b=5\n",
        "c=6\n",
        "avg=(a+b+c)/3\n",
        "print(avg)"
      ],
      "metadata": {
        "colab": {
          "base_uri": "https://localhost:8080/"
        },
        "id": "AqUpYZzonmpv",
        "outputId": "363e70cf-7bf8-482c-ca27-65a9f4e5e8d4"
      },
      "execution_count": null,
      "outputs": [
        {
          "output_type": "stream",
          "name": "stdout",
          "text": [
            "5.0\n"
          ]
        }
      ]
    },
    {
      "cell_type": "code",
      "source": [
        "#display name,course and address\n",
        "name=input(\"enter name \")\n",
        "college=input(\"enter college name \")\n",
        "course=input(\"enter course name \")\n",
        "print(\"name: \",name.capitalize(),\"\\n\",\"college: \",college,'\\n',\"course: \",course,)"
      ],
      "metadata": {
        "colab": {
          "base_uri": "https://localhost:8080/"
        },
        "id": "RKaYFUHBDnCc",
        "outputId": "1d5ca1b0-9d8e-4d18-b96f-55647fabf2c3"
      },
      "execution_count": null,
      "outputs": [
        {
          "output_type": "stream",
          "name": "stdout",
          "text": [
            "enter name \n",
            "enter college name \n",
            "enter course name \n",
            "name:   \n",
            " college:   \n",
            " course:  \n"
          ]
        }
      ]
    },
    {
      "cell_type": "code",
      "source": [
        "s=\"hello\"\n",
        "u=\"world\"\n",
        "print(s)\n",
        "print(u)"
      ],
      "metadata": {
        "colab": {
          "base_uri": "https://localhost:8080/"
        },
        "id": "FNwWRb95F2zC",
        "outputId": "88fe9aac-7c84-4713-fc46-6bea821d7c59"
      },
      "execution_count": null,
      "outputs": [
        {
          "output_type": "stream",
          "name": "stdout",
          "text": [
            "hello\n",
            "world\n"
          ]
        }
      ]
    },
    {
      "cell_type": "code",
      "source": [
        "s1=\"python\"\n",
        "s2=\"world\"\n",
        "s3=s1+\" \"+s2\n",
        "print(s3)\n"
      ],
      "metadata": {
        "colab": {
          "base_uri": "https://localhost:8080/"
        },
        "id": "CHmGT8k6GluX",
        "outputId": "782bf48e-189e-4e1e-acae-f27242b34259"
      },
      "execution_count": null,
      "outputs": [
        {
          "output_type": "stream",
          "name": "stdout",
          "text": [
            "python world\n"
          ]
        }
      ]
    },
    {
      "cell_type": "code",
      "source": [
        "#length of characters\n",
        "print(len(s3))"
      ],
      "metadata": {
        "colab": {
          "base_uri": "https://localhost:8080/"
        },
        "id": "xJE9syraHXZI",
        "outputId": "d209debb-2725-4c5b-dea0-16e434eb8f59"
      },
      "execution_count": null,
      "outputs": [
        {
          "output_type": "stream",
          "name": "stdout",
          "text": [
            "12\n"
          ]
        }
      ]
    },
    {
      "cell_type": "code",
      "source": [
        "#Full capital\n",
        "print(s3.upper())"
      ],
      "metadata": {
        "colab": {
          "base_uri": "https://localhost:8080/"
        },
        "id": "VQUBAFWmHeNU",
        "outputId": "ee40cf77-d9d8-444c-a6c6-2f326552ac2d"
      },
      "execution_count": null,
      "outputs": [
        {
          "output_type": "stream",
          "name": "stdout",
          "text": [
            "PYTHON WORLD\n"
          ]
        }
      ]
    },
    {
      "cell_type": "code",
      "source": [
        "#first letter capital\n",
        "print(s3.capitalize())"
      ],
      "metadata": {
        "colab": {
          "base_uri": "https://localhost:8080/"
        },
        "id": "bdcOdPFyH2SY",
        "outputId": "1e4df8df-1cd0-438e-ea16-d14b314cc3a0"
      },
      "execution_count": null,
      "outputs": [
        {
          "output_type": "stream",
          "name": "stdout",
          "text": [
            "Python world\n"
          ]
        }
      ]
    },
    {
      "cell_type": "code",
      "source": [
        "#Full lower case\n",
        "print(s3.lower())"
      ],
      "metadata": {
        "colab": {
          "base_uri": "https://localhost:8080/"
        },
        "id": "HQERLI4FH2KH",
        "outputId": "3fc9bbd4-a131-48cd-d335-e2521e309852"
      },
      "execution_count": null,
      "outputs": [
        {
          "output_type": "stream",
          "name": "stdout",
          "text": [
            "python world\n"
          ]
        }
      ]
    },
    {
      "cell_type": "code",
      "source": [
        "#split operation\n",
        "print(\"how are you\".split())"
      ],
      "metadata": {
        "colab": {
          "base_uri": "https://localhost:8080/"
        },
        "id": "vPZFkW_UJjQ4",
        "outputId": "eb738a35-d51b-42f3-a278-e2ec126868f0"
      },
      "execution_count": null,
      "outputs": [
        {
          "output_type": "stream",
          "name": "stdout",
          "text": [
            "['how', 'are', 'you']\n"
          ]
        }
      ]
    },
    {
      "cell_type": "code",
      "source": [
        "#replace operation\n",
        "print(\"book\".replace('o','e'))"
      ],
      "metadata": {
        "colab": {
          "base_uri": "https://localhost:8080/"
        },
        "id": "Xnx7oQylJjIt",
        "outputId": "149fcd74-0c68-449f-b768-0a3b0f55a6cc"
      },
      "execution_count": null,
      "outputs": [
        {
          "output_type": "stream",
          "name": "stdout",
          "text": [
            "beek\n"
          ]
        }
      ]
    },
    {
      "cell_type": "code",
      "source": [
        "#find operation\n",
        "word=\"jewellery\"\n",
        "print(word.find('well'))\n",
        "print(word.find('is'))"
      ],
      "metadata": {
        "colab": {
          "base_uri": "https://localhost:8080/"
        },
        "id": "TpGdk2vXJi6s",
        "outputId": "3b6ce23c-005c-4b29-8252-c4e073e15ac1"
      },
      "execution_count": null,
      "outputs": [
        {
          "output_type": "stream",
          "name": "stdout",
          "text": [
            "2\n",
            "-1\n"
          ]
        }
      ]
    },
    {
      "cell_type": "markdown",
      "source": [
        "if-else conditional"
      ],
      "metadata": {
        "id": "jeBI7c7mMDfS"
      }
    },
    {
      "cell_type": "code",
      "source": [
        "#three digit number or not\n",
        "number=int(input('ENTER AN INTEGER '))\n",
        "if number>99 and number<1000:\n",
        "  print('3 digit')\n",
        "else:\n",
        "    print('not 3 digit')"
      ],
      "metadata": {
        "colab": {
          "base_uri": "https://localhost:8080/"
        },
        "id": "R5PARjQDLjfj",
        "outputId": "3266528f-3a88-4d65-ae7a-caee0b088391"
      },
      "execution_count": null,
      "outputs": [
        {
          "output_type": "stream",
          "name": "stdout",
          "text": [
            "ENTER AN INTEGER 3\n",
            "not 3 digit\n"
          ]
        }
      ]
    },
    {
      "cell_type": "code",
      "source": [
        "#while loop\n",
        "m=int(input(\"L\"))\n",
        "n=int(input(\"U\"))cusat-Veriton-S2670G\n",
        "step=int(input(\"step\"))\n",
        "i=mcusat-Veriton-S2670Gcusat-Veriton-S2670G\n",
        "while i<=n:\n",
        "  print(i)\n",
        "  i=i+step"
      ],
      "metadata": {
        "colab": {
          "base_uri": "https://localhost:8080/"
        },
        "id": "c8l3pIQG4ynz",
        "outputId": "5d200654-4b6d-42ef-f172-308c63a331d4"
      },
      "execution_count": null,
      "outputs": [
        {
          "output_type": "stream",
          "name": "stdout",
          "text": [
            "L0\n",
            "U100\n",
            "step8\n",
            "0\n",
            "8\n",
            "16\n",
            "24\n",
            "32\n",
            "40\n",
            "48\n",
            "56\n",
            "64\n",
            "72\n",
            "80\n",
            "88\n",
            "96\n"
          ]
        }
      ]
    },
    {
      "cell_type": "code",
      "source": [
        "#factors of number\n",
        "c=0\n",
        "n=int(input(\"Enter a number\"))\n",
        "f=1\n",
        "while f<=n:\n",
        "  if n%f==0:\n",
        "    print(f)\n",
        "  f=f+1"
      ],
      "metadata": {
        "colab": {
          "base_uri": "https://localhost:8080/"
        },
        "id": "BSDUY2Eh-25g",
        "outputId": "c7ac7855-aeb3-4e16-c80c-4954e3295c1c"
      },
      "execution_count": null,
      "outputs": [
        {
          "output_type": "stream",
          "name": "stdout",
          "text": [
            "Enter a number100\n",
            "1\n",
            "2\n",
            "4\n",
            "5\n",
            "10\n",
            "20\n",
            "25\n",
            "50\n",
            "100\n"
          ]
        }
      ]
    },
    {
      "cell_type": "code",
      "source": [
        "#checking if prime\n",
        "c=0\n",
        "n=int(input(\"Enter a number=\"))\n",
        "f=2\n",
        "while f<=n//2:\n",
        "  if n%f==0:\n",
        "    c=c+1\n",
        "    break\n",
        "  f=f+1\n",
        "if c==0:\n",
        "  print(n,\"is prime\")\n",
        "else:\n",
        "  print(n,\"is not prime\")"
      ],
      "metadata": {
        "colab": {
          "base_uri": "https://localhost:8080/"
        },
        "id": "dDvlxke06-xr",
        "outputId": "48848641-2877-4911-9a28-d9b725381504"
      },
      "execution_count": null,
      "outputs": [
        {
          "output_type": "stream",
          "name": "stdout",
          "text": [
            "Enter a number=101\n",
            "101 is prime\n"
          ]
        }
      ]
    },
    {
      "cell_type": "code",
      "source": [
        "for i in range(5):\n",
        "  print(i)"
      ],
      "metadata": {
        "colab": {
          "base_uri": "https://localhost:8080/"
        },
        "id": "Y_k4wIpn_Qno",
        "outputId": "f2d177ba-d6ee-40d2-dd9b-c89b29bb6eae"
      },
      "execution_count": null,
      "outputs": [
        {
          "output_type": "stream",
          "name": "stdout",
          "text": [
            "0\n",
            "1\n",
            "2\n",
            "3\n",
            "4\n"
          ]
        }
      ]
    },
    {
      "cell_type": "markdown",
      "source": [
        "Raptor to Python"
      ],
      "metadata": {
        "id": "99WhvK0LsWfQ"
      }
    },
    {
      "cell_type": "code",
      "source": [
        "#average of 3 numbers\n",
        "x=int(input(\"enter a number \"))\n",
        "y=int(input(\"enter a number \"))\n",
        "z=int(input(\"enter a number \"))\n",
        "avg=(x+y+z)/3\n",
        "print(\"average is \",avg)"
      ],
      "metadata": {
        "colab": {
          "base_uri": "https://localhost:8080/"
        },
        "id": "1pFyI37JmQtj",
        "outputId": "b3bab271-2283-488a-d9ac-f139c3bb8ebd"
      },
      "execution_count": null,
      "outputs": [
        {
          "output_type": "stream",
          "name": "stdout",
          "text": [
            "enter a number 12\n",
            "enter a number 12\n",
            "enter a number 12\n",
            "average is  12.0\n"
          ]
        }
      ]
    },
    {
      "cell_type": "code",
      "source": [
        "#area and perimeter of triangle\n",
        "x=int(input(\"enter side of triangle \"))\n",
        "y=int(input(\"enter side of triangle  \"))\n",
        "z=int(input(\"enter side of triangle \"))\n",
        "perimeter=x+y+z\n",
        "print(\"perimeter of triangle is\",perimeter)\n",
        "s=perimeter/2\n",
        "area=(s*(s-x)*(s-y)*(s-z))**0.5\n",
        "print(\"area of circle is\",area)"
      ],
      "metadata": {
        "id": "RLG8N_LRr9cf",
        "colab": {
          "base_uri": "https://localhost:8080/"
        },
        "outputId": "643952c5-c7ab-48dc-dfcd-555e202690c0"
      },
      "execution_count": null,
      "outputs": [
        {
          "output_type": "stream",
          "name": "stdout",
          "text": [
            "enter side of triangle 1\n",
            "enter side of triangle  1\n",
            "enter side of triangle 1\n",
            "perimeter of triangle is 3\n",
            "area of circle is 0.4330127018922193\n"
          ]
        }
      ]
    },
    {
      "cell_type": "code",
      "source": [
        " #area and circumference of a circle\n",
        " r=int(input(\"Enter radius of circle \"))\n",
        " pi=3.14 \n",
        " area=pi*r*r\n",
        " circum=2*pi*r\n",
        " print(\"area of cicle\",area)\n",
        " print(\"cicumference of cicle\",circum)"
      ],
      "metadata": {
        "colab": {
          "base_uri": "https://localhost:8080/"
        },
        "id": "5VeavTdD-qlE",
        "outputId": "12570807-b9d4-4133-b005-696ff555de44"
      },
      "execution_count": null,
      "outputs": [
        {
          "output_type": "stream",
          "name": "stdout",
          "text": [
            "enter radius of circle 10\n",
            "area of cicle 314.0\n",
            "cicumference of cicle 62.800000000000004\n"
          ]
        }
      ]
    },
    {
      "cell_type": "code",
      "source": [
        "#Convert time entered in seconds to hours,minutes and seconds\n",
        "t=int(input(\"Enter time in seconds \"))\n",
        "h= (t//3600)\n",
        "m= (t%3600)//60\n",
        "s= t-(h*600)-(m*60)\n",
        "print(\"Hour: \",h)\n",
        "print(\"Minutes: \",m)\n",
        "print(\"Seconds: \",s)"
      ],
      "metadata": {
        "id": "BW4VIWG4LjUu",
        "colab": {
          "base_uri": "https://localhost:8080/"
        },
        "outputId": "09ebd7fb-1061-45c1-df7b-c0924ebce03a"
      },
      "execution_count": null,
      "outputs": [
        {
          "output_type": "stream",
          "name": "stdout",
          "text": [
            "Enter time in seconds  400\n",
            "Hour:  0\n",
            "Minutes:  6\n",
            "Seconds:  40\n"
          ]
        }
      ]
    },
    {
      "cell_type": "code",
      "source": [
        "#interchange 2 unequal numbers without using third variable\n",
        "a=int(input(\"Enter number a=\"))\n",
        "b=int(input(\"Enter number b=\"))\n",
        "a=a+b\n",
        "b=a-b\n",
        "a=a-b\n",
        "print(\"a=\",a)\n",
        "print(\"b=\",b)"
      ],
      "metadata": {
        "id": "zVJRxnFxLjLH",
        "colab": {
          "base_uri": "https://localhost:8080/"
        },
        "outputId": "26bc1d84-137f-40e9-b61c-dcae326a5fe1"
      },
      "execution_count": null,
      "outputs": [
        {
          "output_type": "stream",
          "name": "stdout",
          "text": [
            "Enter number a=10\n",
            "Enter number b=11\n",
            "a= 11\n",
            "b= 10\n"
          ]
        }
      ]
    },
    {
      "cell_type": "code",
      "source": [
        "#arithmetic operations\n",
        "a=int(input(\"Enter number a=\"))\n",
        "b=int(input(\"Enter number b=\"))\n",
        "print(\"sum=\",a+b)\n",
        "print(\"difference=\",a-b)\n",
        "print(\"product=\",a*b)\n",
        "print(\"quotient=\",a//b)"
      ],
      "metadata": {
        "id": "_8jX-8uazvNm",
        "colab": {
          "base_uri": "https://localhost:8080/"
        },
        "outputId": "30b63fac-cca6-46f7-a2f9-f2d2b8916da5"
      },
      "execution_count": null,
      "outputs": [
        {
          "output_type": "stream",
          "name": "stdout",
          "text": [
            "Enter number a=11\n",
            "Enter number b=12\n",
            "sum= 23\n",
            "difference= -1\n",
            "product= 132\n",
            "quotient= 0\n"
          ]
        }
      ]
    },
    {
      "cell_type": "code",
      "source": [
        "#Convert days into year,month and days\n",
        "t=int(input(\"Enter number of days \"))\n",
        "year=t//365\n",
        "month=(t%365)//30\n",
        "days=(t-(year*365)-(month*30))\n",
        "print(\"year:\",year)\n",
        "print(\"Month:\",month)\n",
        "print(\"Day:\",days)"
      ],
      "metadata": {
        "colab": {
          "base_uri": "https://localhost:8080/"
        },
        "id": "423vxhzDRf8T",
        "outputId": "fe14869b-8ef7-40f8-9cb0-e8aac16b28b6"
      },
      "execution_count": null,
      "outputs": [
        {
          "output_type": "stream",
          "name": "stdout",
          "text": [
            "Enter number of days400\n",
            "year: 1\n",
            "Month: 1\n",
            "Day: 5\n"
          ]
        }
      ]
    },
    {
      "cell_type": "code",
      "source": [
        "#largest among two numbers\n",
        "a=int(input(\"Enter a number\"))\n",
        "b=int(input(\"Enter a number\"))\n",
        "if a<b:\n",
        "  print(b,\" is larger than \",a)\n",
        "elif a==b:\n",
        "  print(a,\" is equal to \",b)\n",
        "else:\n",
        "  print(a,\" is greater than\",b)"
      ],
      "metadata": {
        "id": "G-O0GsbuRfvE",
        "colab": {
          "base_uri": "https://localhost:8080/"
        },
        "outputId": "aaff95b5-6ee5-404d-e26e-e4839d7a604e"
      },
      "execution_count": null,
      "outputs": [
        {
          "output_type": "stream",
          "name": "stdout",
          "text": [
            "Enter a number10\n",
            "Enter a number12\n",
            "12  is larger than  10\n"
          ]
        }
      ]
    },
    {
      "cell_type": "code",
      "source": [
        "#Smallest fo three numbers\n",
        "a=int(input(\"Enter a number \"))\n",
        "b=int(input(\"Enter a number \"))\n",
        "c=int(input(\"Enter a number \"))\n",
        "if a>b and b>c:\n",
        "  print(\"\")\n",
        " "
      ],
      "metadata": {
        "colab": {
          "base_uri": "https://localhost:8080/"
        },
        "id": "OCgJaSjLILWd",
        "outputId": "b3c48066-cf80-42de-dbc2-a9989d07a681"
      },
      "execution_count": null,
      "outputs": [
        {
          "output_type": "stream",
          "name": "stdout",
          "text": [
            "Enter a number1\n",
            "Enter a number2\n",
            "Enter a number3\n",
            "1  is the smallest number\n"
          ]
        }
      ]
    },
    {
      "cell_type": "code",
      "source": [
        "#check whether positive,negative or zero\n",
        "a=int(input(\"Enter a number \"))\n",
        "if a==0:\n",
        "  print(\"given number is zero\")\n",
        "elif a>0:\n",
        "  print(\"given number is positive\")\n",
        "else:\n",
        "  print(\"given number is negative\")"
      ],
      "metadata": {
        "colab": {
          "base_uri": "https://localhost:8080/"
        },
        "id": "NFp9neN1JcYi",
        "outputId": "6b444091-3dfd-4594-aaf1-45e81ae2d718"
      },
      "execution_count": null,
      "outputs": [
        {
          "output_type": "stream",
          "name": "stdout",
          "text": [
            "Enter a number0\n",
            "given number is zero\n"
          ]
        }
      ]
    },
    {
      "cell_type": "code",
      "source": [
        "#check whther a two digit number or not\n",
        "a=int(input(\"Enter a number \"))\n",
        "d=0\n",
        "if a/100>=1:\n",
        "  print(\"Given number is not a two digit number\")\n",
        "elif a/10>=1:\n",
        "  print(\"Given number is a two digit number\")\n",
        "else:\n",
        "  print(\"Given number is not a two digit number\")"
      ],
      "metadata": {
        "colab": {
          "base_uri": "https://localhost:8080/"
        },
        "id": "UdpleegUJ-oD",
        "outputId": "30b10c15-c706-4055-8ad3-146e74c094c3"
      },
      "execution_count": null,
      "outputs": [
        {
          "output_type": "stream",
          "name": "stdout",
          "text": [
            "Enter a number 100\n",
            "Given number is not a two digit number\n"
          ]
        }
      ]
    },
    {
      "cell_type": "code",
      "source": [
        "#whether a number is multiple of another\n",
        "a=int(input(\"Enter a number \"))\n",
        "b=int(input(\"Enter a number \"))\n",
        "f=a//b\n",
        "if a/b==f:\n",
        "  print(\"Given number is a multiple of the other\")\n",
        "else:\n",
        "  print(\"Given number is not a multiple of the other\")"
      ],
      "metadata": {
        "colab": {
          "base_uri": "https://localhost:8080/"
        },
        "id": "N3zKFD2I4G8D",
        "outputId": "5b889d6e-a988-4e72-f751-f6e16f8e4ba0"
      },
      "execution_count": null,
      "outputs": [
        {
          "output_type": "stream",
          "name": "stdout",
          "text": [
            "Enter a number 12\n",
            "Enter a number 3\n",
            "Given number is a multiple of the other\n"
          ]
        }
      ]
    },
    {
      "cell_type": "code",
      "source": [
        "#smallest digit in a two digit number\n",
        "a=int(input(\"Enter a two digit number \"))\n",
        "a1=a%10\n",
        "a2=(a-a1)%10\n",
        "if a1<a2:\n",
        "  print(a1,\" is the smallest digit\")\n",
        "else:\n",
        "  print(a2,\" is the smallest digit\")"
      ],
      "metadata": {
        "colab": {
          "base_uri": "https://localhost:8080/"
        },
        "id": "I46nddO746Ac",
        "outputId": "a8cb3df3-a1a2-4346-ef3f-9e5b167c7880"
      },
      "execution_count": null,
      "outputs": [
        {
          "output_type": "stream",
          "name": "stdout",
          "text": [
            "Enter a two digit number 10\n",
            "0  is the smallest digit\n"
          ]
        }
      ]
    },
    {
      "cell_type": "code",
      "source": [
        "#distance between two points on number line\n",
        "a=int(input(\"Enter a point on number line \"))\n",
        "b=int(input(\"Enter a point on number line \"))\n",
        "if a>0 and b>0:\n",
        "  d=a-b\n",
        "elif a<0 and b>0:\n",
        "  d=b-a\n",
        "else:\n",
        "  d=(b-a)*(-1)\n",
        "print(d,\" is the distance between given points\")"
      ],
      "metadata": {
        "colab": {
          "base_uri": "https://localhost:8080/"
        },
        "id": "5gAIrNL25gxY",
        "outputId": "6b610fb3-c8ca-463d-c66a-9a4113dd7f68"
      },
      "execution_count": null,
      "outputs": [
        {
          "output_type": "stream",
          "name": "stdout",
          "text": [
            "Enter a point on number line 1\n",
            "Enter a point on number line -1\n",
            "2  is the distance between given points\n"
          ]
        }
      ]
    },
    {
      "cell_type": "code",
      "source": [
        "#nature of solutions of quadratic equation\n",
        "a=int(input(\"Enter 'a' from equation \"))\n",
        "b=int(input(\"Enter 'b' from equation \"))\n",
        "c=int(input(\"Enter 'c' from equation \"))\n",
        "d=(b*b)-(4*a*c)\n",
        "if d>=0:\n",
        "  print(\"The given quadratic has real solutions\")\n",
        "else:\n",
        "  print(\"The given quadratic has no real solutions\")"
      ],
      "metadata": {
        "colab": {
          "base_uri": "https://localhost:8080/"
        },
        "id": "z6WvOZTF6Zf1",
        "outputId": "d083e3d6-69f7-40b0-9a2d-4f563381a985"
      },
      "execution_count": null,
      "outputs": [
        {
          "output_type": "stream",
          "name": "stdout",
          "text": [
            "Enter 'a' from equation 2\n",
            "Enter 'b' from equation 3\n",
            "Enter 'c' from equation 4\n",
            "The given quadratic has no real solutions\n"
          ]
        }
      ]
    },
    {
      "cell_type": "code",
      "source": [
        "#sum of 'n' natural numbers\n",
        "n=int(input(\"Enter the number of natural numbers \"))\n",
        "sum=(n*(n+1))/2\n",
        "print(\"sum of \",n,\" natural numbers is \",sum)"
      ],
      "metadata": {
        "colab": {
          "base_uri": "https://localhost:8080/"
        },
        "id": "iMxSslzS67aP",
        "outputId": "a943efd6-fe59-467a-d0d6-44a11cd520f8"
      },
      "execution_count": null,
      "outputs": [
        {
          "output_type": "stream",
          "name": "stdout",
          "text": [
            "Enter the number of natural numbers 10\n",
            "sum of  10  natural numbers is  55.0\n"
          ]
        }
      ]
    },
    {
      "cell_type": "code",
      "source": [
        "#sum of factors of number\n",
        "a=int(input(\"Enter a number \"))\n",
        "i=1\n",
        "sum=0\n",
        "while i<=a/2:\n",
        "  if a%i==0:\n",
        "    sum=sum+i\n",
        "  i=i+1\n",
        "sum=sum+a\n",
        "print(\"sum of factors of \",n,\" is \",sum)"
      ],
      "metadata": {
        "colab": {
          "base_uri": "https://localhost:8080/"
        },
        "id": "_lXisvPD8bS1",
        "outputId": "81bfa74d-8768-4e5e-db7b-463e402e28a2"
      },
      "execution_count": null,
      "outputs": [
        {
          "output_type": "stream",
          "name": "stdout",
          "text": [
            "Enter a number 10\n",
            "sum of factors of  10  is  18\n"
          ]
        }
      ]
    },
    {
      "cell_type": "code",
      "source": [
        "#arithmetic sequence\n",
        "a=int(input(\"Enter the first element \"))\n",
        "d=int(input(\"Enter the common difference \"))\n",
        "n=int(input(\"Enter the number of terms required \"))\n",
        "an=a\n",
        "while n>0:\n",
        "  print(an)\n",
        "  n=n-1\n",
        "  an=an+d"
      ],
      "metadata": {
        "id": "he8u5Fuw9b7O"
      },
      "execution_count": null,
      "outputs": []
    },
    {
      "cell_type": "code",
      "source": [
        "#first 'n' odd numbers\n",
        "n=int(input(\"Enter number of digits required \"))\n",
        "i=1\n",
        "while i<n*2:\n",
        "  print(i)\n",
        "  i=i+2"
      ],
      "metadata": {
        "id": "hP4Sjp2v-GzQ"
      },
      "execution_count": null,
      "outputs": []
    },
    {
      "cell_type": "code",
      "source": [
        "#factorial of a number\n",
        "num=int(input(\"Enter the integer \"))\n",
        "i=1\n",
        "pro=i\n",
        "if num>1:\n",
        "  while i<=num:\n",
        "    pro=pro*i\n",
        "    i=i+1\n",
        "  print(\"factorial of \",num,\" is \",pro)\n",
        "elif num==0 or num==1:\n",
        "  print(\"factorial of \",num,\" is 1\",)"
      ],
      "metadata": {
        "colab": {
          "base_uri": "https://localhost:8080/"
        },
        "id": "MFqPm_bl-sZv",
        "outputId": "0b943510-91a4-42b6-82f6-259fc4b8511c"
      },
      "execution_count": null,
      "outputs": [
        {
          "output_type": "stream",
          "name": "stdout",
          "text": [
            "Enter the integer 1\n",
            "factorial of  1  is 1\n"
          ]
        }
      ]
    },
    {
      "cell_type": "code",
      "source": [
        "#palindromic number\n",
        "num=int(input(\"Enter a number \"))\n",
        "s=num\n",
        "p=0\n",
        "while s>0:\n",
        "  p=p*10+s%10\n",
        "  s=s//10\n",
        "if num==p:\n",
        "  print(\"Given number is palindromic\")\n",
        "else:\n",
        "  print(\"Given number is not palindromic\")"
      ],
      "metadata": {
        "colab": {
          "base_uri": "https://localhost:8080/"
        },
        "id": "Dx8U0LEn-kzL",
        "outputId": "ad2d454f-8b18-4ef6-9f12-9071e1c71ba9"
      },
      "execution_count": null,
      "outputs": [
        {
          "output_type": "stream",
          "name": "stdout",
          "text": [
            "Enter a number 101\n",
            "Given number is palindromic\n"
          ]
        }
      ]
    },
    {
      "cell_type": "code",
      "source": [
        "#armstrong number\n",
        "num=int(input(\"Enter a number \"))\n",
        "s=num\n",
        "p=0\n",
        "r=0\n",
        "while s>0:\n",
        "  p=p*10+s%10\n",
        "  s=s//10\n",
        "  r=r+1\n",
        "s=num\n",
        "p=0\n",
        "while s>0:\n",
        "  p=p+(s%10)**r\n",
        "  s=s//10\n",
        "if p==num:\n",
        "  print(\"given number is an armstrong number\")\n",
        "else:\n",
        "  print(\"Given number is not an armstrong number\")"
      ],
      "metadata": {
        "colab": {
          "base_uri": "https://localhost:8080/"
        },
        "id": "4HRJXUj4D9Vb",
        "outputId": "cd0574b0-14f7-4cd1-caf5-fc7c0cb432df"
      },
      "execution_count": null,
      "outputs": [
        {
          "output_type": "stream",
          "name": "stdout",
          "text": [
            "Enter a number 9474\n",
            "given number is an armstrong number\n"
          ]
        }
      ]
    },
    {
      "cell_type": "code",
      "source": [
        "#fibonacci series\n",
        "x=int(input(\"Enter number of terms \"))\n",
        "if x==1:\n",
        "  print(0)\n",
        "elif x==2:\n",
        "  print(0,\",\",1)\n",
        "elif x>2:\n",
        "  n1=0\n",
        "  n2=1\n",
        "  print(n1)\n",
        "  print(n2)\n",
        "  while x>2:\n",
        "    n3=n1+n2\n",
        "    n1=n2\n",
        "    n2=n3\n",
        "    x=x-1\n",
        "    print(n3)"
      ],
      "metadata": {
        "colab": {
          "base_uri": "https://localhost:8080/"
        },
        "id": "VZWJl9r0HF9y",
        "outputId": "32780219-0779-4ae6-cd66-7393d5df93fe"
      },
      "execution_count": null,
      "outputs": [
        {
          "output_type": "stream",
          "name": "stdout",
          "text": [
            "Enter number of terms 5\n",
            "0\n",
            "1\n",
            "1\n",
            "2\n",
            "3\n"
          ]
        }
      ]
    },
    {
      "cell_type": "code",
      "source": [
        "#x^n using loops\n",
        "x=int(input(\"Enter number \"))\n",
        "n=int(input(\"Enter power \"))\n",
        "i=1\n",
        "p=x\n",
        "while i<n:\n",
        "  p=p*x\n",
        "  i=i+1\n",
        "print(p)"
      ],
      "metadata": {
        "colab": {
          "base_uri": "https://localhost:8080/"
        },
        "id": "Brjasz4GJvvX",
        "outputId": "80833afe-346f-4699-9b0e-d270aad44fbd"
      },
      "execution_count": null,
      "outputs": [
        {
          "output_type": "stream",
          "name": "stdout",
          "text": [
            "Enter number 10\n",
            "Enter power 10\n",
            "10000000000\n"
          ]
        }
      ]
    },
    {
      "cell_type": "code",
      "source": [
        "#GCD of two numbers\n",
        "a=int(input(\"Enter a number \"))\n",
        "b=int(input(\"Enter a number \"))\n",
        "i=1\n",
        "while i<=a/2 or i<=b/2:\n",
        "  if a%i==0 and b%i==0:\n",
        "    d=i\n",
        "  i=i+1\n",
        "print(\"GCD of \",a,\" & \",b,\" is \",d)"
      ],
      "metadata": {
        "id": "OYr7NBGtMavu"
      },
      "execution_count": null,
      "outputs": []
    },
    {
      "cell_type": "code",
      "source": [
        "#checking if prime\n",
        "c=0\n",
        "n=int(input(\"Enter a number=\"))\n",
        "f=2\n",
        "while f<=n//2:\n",
        "  if n%f==0:\n",
        "    c=c+1\n",
        "    break\n",
        "  f=f+1\n",
        "if c==0:\n",
        "  print(n,\"is prime\")\n",
        "else:\n",
        "  print(n,\"is not prime\")"
      ],
      "metadata": {
        "id": "izLNg0tTgM8E"
      },
      "execution_count": null,
      "outputs": []
    },
    {
      "cell_type": "code",
      "source": [
        "#sum of arithmetic series upto n terms\n",
        "a=int(input(\"Enter the first element \"))\n",
        "d=int(input(\"Enter the common difference \"))\n",
        "n=int(input(\"Enter the number of terms required \"))\n",
        "an=a\n",
        "sum=0\n",
        "while n>0:\n",
        "  sum=sum+an\n",
        "  n=n-1\n",
        "  an=an+d\n",
        "print(sum)"
      ],
      "metadata": {
        "colab": {
          "base_uri": "https://localhost:8080/"
        },
        "id": "_A5oO_ROWn_g",
        "outputId": "0922b704-e845-4e52-da91-aba2dfec61b5"
      },
      "execution_count": null,
      "outputs": [
        {
          "output_type": "stream",
          "name": "stdout",
          "text": [
            "Enter the first element 1\n",
            "Enter the common difference 1\n",
            "Enter the number of terms required 10\n",
            "55\n"
          ]
        }
      ]
    },
    {
      "cell_type": "code",
      "source": [
        "#decimal equivalent of a binary numbver\n",
        "binary=int(input(\"Enter a biinary number \"))\n",
        "i=0\n",
        "n=binary\n",
        "s=0\n",
        "while n>0:\n",
        "  s=s+(n%10)*(2**i)\n",
        "  n=n//10\n",
        "  i=i+1\n",
        "print(\"Decimal value=\",s)"
      ],
      "metadata": {
        "colab": {
          "base_uri": "https://localhost:8080/"
        },
        "id": "EwfnW6pSQdkd",
        "outputId": "ec33dd29-9a45-4995-ce4d-3e3bedf7a26e"
      },
      "execution_count": null,
      "outputs": [
        {
          "output_type": "stream",
          "name": "stdout",
          "text": [
            "Enter a biinary number 101001\n",
            "Decimal value= 41\n"
          ]
        }
      ]
    },
    {
      "cell_type": "code",
      "source": [
        "#check whether automorphic number(integer whose square ends with given integer)\n",
        "num=int(input(\"Enter a number \"))\n",
        "s=num\n",
        "p=0\n",
        "r=0\n",
        "while s>0:\n",
        "  p=p*10+s%10\n",
        "  s=s//10\n",
        "  r=r+1\n",
        "s=num*num\n",
        "p=s%(10**r)\n",
        "if num==p:\n",
        "  print(\"Given number is automorphic\")\n",
        "else:\n",
        "  print(\"Given number is not automorphic\")"
      ],
      "metadata": {
        "id": "HzCLgKoSWY-y",
        "colab": {
          "base_uri": "https://localhost:8080/"
        },
        "outputId": "8e1905db-32bf-4c8c-b39c-9200799b89d5"
      },
      "execution_count": null,
      "outputs": [
        {
          "output_type": "stream",
          "name": "stdout",
          "text": [
            "Enter a number 6\n",
            "Given number is automorphic\n"
          ]
        }
      ]
    },
    {
      "cell_type": "markdown",
      "source": [
        "Container datatypes\n"
      ],
      "metadata": {
        "id": "4ZlP6idrR9Xl"
      }
    },
    {
      "cell_type": "code",
      "source": [
        "#dictionary container\n",
        "Imsc={1:'adithyan',2:'amjad',3:'ashfaq'}\n",
        "for id,name in Imsc.items():\n",
        "  print(id)\n",
        "  print(name)"
      ],
      "metadata": {
        "colab": {
          "base_uri": "https://localhost:8080/"
        },
        "id": "VSsraSKX5dgh",
        "outputId": "1acf02a5-63e9-48b0-fa12-634c8d927aa7"
      },
      "execution_count": null,
      "outputs": [
        {
          "output_type": "stream",
          "name": "stdout",
          "text": [
            "1\n",
            "adithyan\n",
            "2\n",
            "amjad\n",
            "3\n",
            "ashfaq\n"
          ]
        }
      ]
    },
    {
      "cell_type": "code",
      "source": [
        "#reverse the list\n",
        "l1=[]\n",
        "l2=[]\n",
        "n=int(input(\"Enter number of terms in list \"))\n",
        "for i in range(n):\n",
        "  ele=input(\"Enter term \")\n",
        "  l1.append(ele)\n",
        "print(\"list before reversing=\",l1)\n",
        "for i in range(n-1,0,-1):\n",
        "  l2.append(l1[i])\n",
        "print(\"list after reversing=\",l2)"
      ],
      "metadata": {
        "colab": {
          "base_uri": "https://localhost:8080/"
        },
        "id": "yUSHAg6szeRa",
        "outputId": "5c945696-f6a0-4f85-e292-8895834a9151"
      },
      "execution_count": null,
      "outputs": [
        {
          "output_type": "stream",
          "name": "stdout",
          "text": [
            "Enter number of terms in list 5\n",
            "Enter term asdjkh\n",
            "Enter term asdj\n",
            "Enter term afslh\n",
            "Enter term zv,mn\n",
            "Enter term jksa\n",
            "list before reversing= ['asdjkh', 'asdj', 'afslh', 'zv,mn', 'jksa']\n",
            "list after reversing= ['jksa', 'zv,mn', 'afslh', 'asdj']\n"
          ]
        }
      ]
    },
    {
      "cell_type": "code",
      "source": [
        "#concate two list index wise\n",
        "l1=[]\n",
        "l2=[]\n",
        "l3=[]\n",
        "n=int(input(\"Enter number of terms in list \"))\n",
        "for i in range(n):\n",
        "  ele=input(\"Enter term of first list \")\n",
        "  l1.append(ele)\n",
        "  ele=input(\"Enter term of second list \")\n",
        "  l2.append(ele)\n",
        "  l3.append(l1[i]+l2[i])\n",
        "print(l3)"
      ],
      "metadata": {
        "id": "41D3_LYK93Dx",
        "colab": {
          "base_uri": "https://localhost:8080/"
        },
        "outputId": "ac1417ce-53d8-459e-f189-e91128598bcd"
      },
      "execution_count": null,
      "outputs": [
        {
          "output_type": "stream",
          "name": "stdout",
          "text": [
            "Enter number of terms in list 3\n",
            "Enter term of first list bread\n",
            "Enter term of second list is\n",
            "Enter term of first list good\n",
            "Enter term of second list for\n",
            "Enter term of first list health\n",
            "Enter term of second list i\n",
            "['breadis', 'goodfor', 'healthi']\n"
          ]
        }
      ]
    },
    {
      "cell_type": "code",
      "source": [
        "#square of items in a list with values from 1 to 10\n",
        "l1=[]\n",
        "for i in range(1,11):\n",
        "  l1.append(i)\n",
        "square=[i*i for i in l1]\n",
        "print(square)"
      ],
      "metadata": {
        "colab": {
          "base_uri": "https://localhost:8080/"
        },
        "id": "KLNGOjF4E1sn",
        "outputId": "7da5759f-7f22-44c6-a341-116b1a3a225c"
      },
      "execution_count": null,
      "outputs": [
        {
          "output_type": "stream",
          "name": "stdout",
          "text": [
            "[1, 4, 9, 16, 25, 36, 49, 64, 81, 100]\n"
          ]
        }
      ]
    },
    {
      "cell_type": "code",
      "source": [
        "#remove empty string from a list of strings\n",
        "l1=[\" \",\"my\",' ',\"name\",\" \",'is',\" \",12345]\n",
        "l2=[i for i in l1 if i!='']\n",
        "print(l2)"
      ],
      "metadata": {
        "colab": {
          "base_uri": "https://localhost:8080/"
        },
        "id": "_lu98T7YIRrO",
        "outputId": "ddcdab09-273f-4f86-de05-826650cb1238"
      },
      "execution_count": null,
      "outputs": [
        {
          "output_type": "stream",
          "name": "stdout",
          "text": [
            "['my', 'name', 'is', 12345]\n"
          ]
        }
      ]
    },
    {
      "cell_type": "code",
      "source": [
        "#find a particular item in a list and square it\n",
        "l1=[1,3,10,330,12,13]\n",
        "item=int(input(\"Enter the item to find \"))\n",
        "try:\n",
        "  n=l1.index(item)\n",
        "  print(item,\" is \",n,\"th element in list\")\n",
        "  l1[n]=int(l1[n])*int(l1[n])\n",
        "  print(l1)\n",
        "except ValueError:\n",
        "  print(\"Given item is not in list\")"
      ],
      "metadata": {
        "id": "cyjaBK7dKeU3"
      },
      "execution_count": null,
      "outputs": []
    },
    {
      "cell_type": "code",
      "source": [
        "#remove all occurence of a specific item from the list\n",
        "l1=[1,3,10,330,12,13,10,10,1013]\n",
        "item=int(input(\"Enter the item to remove \"))\n",
        "print(\"list before doing operation \",l1)\n",
        "x=[i for i in l1 if i!=item]\n",
        "print(\"list after doing operation \",x)"
      ],
      "metadata": {
        "colab": {
          "base_uri": "https://localhost:8080/"
        },
        "id": "68gBMJ4UNo4w",
        "outputId": "715b3f10-846e-4c60-8376-358c87ea9bcb"
      },
      "execution_count": null,
      "outputs": [
        {
          "output_type": "stream",
          "name": "stdout",
          "text": [
            "Enter the item to remove 10\n",
            "list before doing operation  [1, 3, 10, 330, 12, 13, 10, 10, 1013]\n",
            "list after doing operation  [1, 3, 330, 12, 13, 1013]\n"
          ]
        }
      ]
    },
    {
      "cell_type": "code",
      "source": [
        "#create a tuple with different datatype and reverse it\n",
        "t1=(10,'asdd',434,765) \n",
        "t2=t1[::-1] \n",
        "print(\"before reversing\",t1)\n",
        "print(\"after reversing\",t2)"
      ],
      "metadata": {
        "colab": {
          "base_uri": "https://localhost:8080/"
        },
        "id": "-LQRow4-QF4d",
        "outputId": "bc2b4af3-f275-4ecd-e413-e374bbbbd60a"
      },
      "execution_count": null,
      "outputs": [
        {
          "output_type": "stream",
          "name": "stdout",
          "text": [
            "before reversing (10, 'asdd', 434, 765)\n",
            "after reversing (765, 434, 'asdd', 10)\n"
          ]
        }
      ]
    },
    {
      "cell_type": "code",
      "source": [
        "#count number of occurence of an item from a tuple\n",
        "t1=(10,434,765,1,3,10,330,12,13,10,10,1013)\n",
        "item=int(input(\"Enter the item to remove \"))\n",
        "count=0\n",
        "for i in t1:\n",
        "  if i==item:\n",
        "    count+=1\n",
        "print(count)"
      ],
      "metadata": {
        "colab": {
          "base_uri": "https://localhost:8080/"
        },
        "id": "KftRCiGTU1wV",
        "outputId": "e2a2c26a-e4a4-466c-e8c9-4a434b6a9818"
      },
      "execution_count": null,
      "outputs": [
        {
          "output_type": "stream",
          "name": "stdout",
          "text": [
            "Enter the item to remove 10\n",
            "4\n"
          ]
        }
      ]
    },
    {
      "cell_type": "code",
      "source": [
        "#unpack tuple into several variables\n",
        "t1=(10,434,765,1,3,10,330,12,13,10,10,1013)\n",
        "for i in range(len(t1)):\n",
        "  a=t1[i]\n",
        "  print(a)"
      ],
      "metadata": {
        "colab": {
          "base_uri": "https://localhost:8080/"
        },
        "id": "lM8bOrj9Xa5N",
        "outputId": "2f40449e-d719-4f3e-dda7-a2b7ed551f5e"
      },
      "execution_count": null,
      "outputs": [
        {
          "output_type": "stream",
          "name": "stdout",
          "text": [
            "10\n",
            "434\n",
            "765\n",
            "1\n",
            "3\n",
            "10\n",
            "330\n",
            "12\n",
            "13\n",
            "10\n",
            "10\n",
            "1013\n"
          ]
        }
      ]
    },
    {
      "cell_type": "code",
      "source": [
        "#element wise sum of tuple\n",
        "a=(1,10,15)\n",
        "b=(2,3,8)\n",
        "c=[i+j for i,j in zip(a,b)]\n",
        "c=tuple(c)\n",
        "print(a,\"+\",b,\"c)"
      ],
      "metadata": {
        "colab": {
          "base_uri": "https://localhost:8080/"
        },
        "id": "WmaQEcl3awEE",
        "outputId": "e8c6e52f-43c1-49ef-d5f9-5de3262dcbab"
      },
      "execution_count": null,
      "outputs": [
        {
          "output_type": "stream",
          "name": "stdout",
          "text": [
            "(3, 13, 23)\n"
          ]
        }
      ]
    },
    {
      "cell_type": "code",
      "source": [
        "#tuple to dictionary\n",
        "a=('ahhd','adzxc','xdfe','sadfd')\n",
        "b=(range(1,len(a)+1))\n",
        "a=dict(zip(a,b))\n",
        "print(a)"
      ],
      "metadata": {
        "colab": {
          "base_uri": "https://localhost:8080/"
        },
        "id": "7T27Q4Ufe7_t",
        "outputId": "ff319f1e-7012-414e-b493-488240676f6d"
      },
      "execution_count": null,
      "outputs": [
        {
          "output_type": "stream",
          "name": "stdout",
          "text": [
            "{'ahhd': 1, 'adzxc': 2, 'xdfe': 3, 'sadfd': 4}\n"
          ]
        }
      ]
    },
    {
      "cell_type": "code",
      "source": [
        "#remove an item from a set if present\n",
        "s1={1,0,14,15,61,17,13,21,12}\n",
        "item=int(input(\"Enter the item to remove \"))\n",
        "print(\"set before doing operation \",s1)\n",
        "x=[i for i in s1 if i!=item]\n",
        "x=set(x)\n",
        "print(\"set after doing operation \",x)"
      ],
      "metadata": {
        "colab": {
          "base_uri": "https://localhost:8080/"
        },
        "id": "yd6T1H27lBrM",
        "outputId": "43efc6ac-a9ba-42cf-e46b-bec7a3b01c7e"
      },
      "execution_count": null,
      "outputs": [
        {
          "output_type": "stream",
          "name": "stdout",
          "text": [
            "Enter the item to remove 10\n",
            "set before doing operation  {1, 3, 10, 330, 12, 13, 1013}\n",
            "set after doing operation  {1, 3, 330, 12, 13, 1013}\n"
          ]
        }
      ]
    },
    {
      "cell_type": "code",
      "source": [
        "#intersection of sets\n",
        "s1={10,12,13,14}\n",
        "s2={1,0,14,15,61,17,13,21,12}\n",
        "print(s1.intersection(s2))"
      ],
      "metadata": {
        "colab": {
          "base_uri": "https://localhost:8080/"
        },
        "id": "178fKCoOn46b",
        "outputId": "92f2d9d0-05bd-4c4c-ec7e-3c11b1d9d685"
      },
      "execution_count": null,
      "outputs": [
        {
          "output_type": "stream",
          "name": "stdout",
          "text": [
            "{12, 13, 14}\n",
            "{10, 12, 13, 14}\n"
          ]
        }
      ]
    },
    {
      "cell_type": "code",
      "source": [
        "#max and min value in a set\n",
        "s1={1,0,14,15,61,17,13,21,12}\n",
        "s1=sorted(s1)\n",
        "print(\"maximum value:\",s1[1])\n",
        "print(\"minimum value:\",s1[-1])"
      ],
      "metadata": {
        "colab": {
          "base_uri": "https://localhost:8080/"
        },
        "id": "47aMkEJHrKk1",
        "outputId": "c638003b-c537-4142-8796-281582985662"
      },
      "execution_count": null,
      "outputs": [
        {
          "output_type": "stream",
          "name": "stdout",
          "text": [
            "maximum value: 1\n",
            "minimum value: 61\n"
          ]
        }
      ]
    },
    {
      "cell_type": "code",
      "source": [
        "#check if 2sets have no elemenets in common\n",
        "s1={0,1,14,15,61,17,21}\n",
        "s2={1,3,10,330,12,13,1013}\n",
        "flag=0\n",
        "for i in s1:\n",
        "  for j in s2:\n",
        "    if i==j:\n",
        "      flag=1\n",
        "      break;\n",
        "if flag==1:\n",
        "  print(\"Given set has common elements\")\n",
        "else:\n",
        "  print(\"Given set has no common elements\")\n"
      ],
      "metadata": {
        "id": "4IuY1gjWsVHE",
        "colab": {
          "base_uri": "https://localhost:8080/"
        },
        "outputId": "4041a8c1-36ff-4593-c214-e340980816db"
      },
      "execution_count": null,
      "outputs": [
        {
          "output_type": "stream",
          "name": "stdout",
          "text": [
            "Given set has common elements\n"
          ]
        }
      ]
    },
    {
      "cell_type": "code",
      "source": [
        "#sort a dictionary by value\n",
        "d1={\"barc\":20,\"javed\":14,\"parkins\":25,\"ons\":30,\"jabud\":45}\n",
        "d1=dict(sorted(d1.items(),key=lambda item:item[1]))\n",
        "print(d1)"
      ],
      "metadata": {
        "colab": {
          "base_uri": "https://localhost:8080/"
        },
        "id": "mDluMUNBg5T2",
        "outputId": "2082b6bf-0c89-43ad-c70d-5264b792a5ce"
      },
      "execution_count": null,
      "outputs": [
        {
          "output_type": "stream",
          "name": "stdout",
          "text": [
            "{'javed': 14, 'barc': 20, 'parkins': 25, 'ons': 30, 'jabud': 45}\n"
          ]
        }
      ]
    },
    {
      "cell_type": "code",
      "source": [
        "#concatinate a dictionary to create a new one\n",
        "d1={\"barc\":20,\"javed\":14,\"parkins\":25,\"ons\":30,\"jabud\":45}\n",
        "d2={'ahhd': 1, 'adzxc': 2, 'xdfe': 3, 'sadfd': 4}\n",
        "d3={**d1,**d2}\n",
        "print(d3)"
      ],
      "metadata": {
        "colab": {
          "base_uri": "https://localhost:8080/"
        },
        "id": "-fREG0Oru44o",
        "outputId": "15e3d305-4de5-48cc-ebe8-52bf9204c5b0"
      },
      "execution_count": null,
      "outputs": [
        {
          "output_type": "stream",
          "name": "stdout",
          "text": [
            "{'barc': 20, 'javed': 14, 'parkins': 25, 'ons': 30, 'jabud': 45, 'ahhd': 1, 'adzxc': 2, 'xdfe': 3, 'sadfd': 4}\n"
          ]
        }
      ]
    },
    {
      "cell_type": "code",
      "source": [
        "#print a dictionary with keys range10-20,and values are squares of keys\n",
        "d1={i**2:i for i in range(10,21)}\n",
        "print(a)"
      ],
      "metadata": {
        "id": "HFbj54cKwakQ",
        "colab": {
          "base_uri": "https://localhost:8080/"
        },
        "outputId": "7c88d56c-70ba-434e-b8b6-ec20b896dd8e"
      },
      "execution_count": null,
      "outputs": [
        {
          "output_type": "stream",
          "name": "stdout",
          "text": [
            "{100: 10, 121: 11, 144: 12, 169: 13, 196: 14, 225: 15, 256: 16, 289: 17, 324: 18, 361: 19, 400: 20}\n"
          ]
        }
      ]
    },
    {
      "cell_type": "code",
      "source": [
        "#remove duplicate from dictionary\n",
        "d1={\"barc\":20,\"parkins\":25,\"parkins\":25,\"asvasd\":25,\"ons\":30,\"jabud\":45}\n",
        "d2=[]\n",
        "res=dict()\n",
        "for key,val in d1.items():\n",
        "  if val not in d2:\n",
        "    d2.append(val)\n",
        "    res[val]=key\n",
        "print(res)"
      ],
      "metadata": {
        "id": "LkeWhFa1TcIm",
        "colab": {
          "base_uri": "https://localhost:8080/"
        },
        "outputId": "2faf1d32-972e-441a-d7dd-6ffda1765004"
      },
      "execution_count": null,
      "outputs": [
        {
          "output_type": "stream",
          "name": "stdout",
          "text": [
            "{20: 'barc', 25: 'parkins', 30: 'ons', 45: 'jabud'}\n"
          ]
        }
      ]
    },
    {
      "cell_type": "code",
      "source": [
        "#create dictionary from string\n",
        "strin=str(input(\"Enter a string \"))\n",
        "res=dict()\n",
        "for i in range(len(strin)):\n",
        "  res[i]=strin[i:i+1]\n",
        "print(res)"
      ],
      "metadata": {
        "id": "cVBZ1RUQTe2e",
        "colab": {
          "base_uri": "https://localhost:8080/"
        },
        "outputId": "90c74caa-088b-43da-9a0d-35b978226a87"
      },
      "execution_count": null,
      "outputs": [
        {
          "output_type": "stream",
          "name": "stdout",
          "text": [
            "Enter a string blaaabla\n",
            "{0: 'b', 1: 'l', 2: 'a', 3: 'a', 4: 'a', 5: 'b', 6: 'l', 7: 'a'}\n"
          ]
        }
      ]
    },
    {
      "cell_type": "code",
      "source": [
        "num=int(input(\"Enter a number \"))\n",
        "l1=[i*i for i in range(1,num+1) if i%2==0]\n",
        "print(l1)"
      ],
      "metadata": {
        "colab": {
          "base_uri": "https://localhost:8080/"
        },
        "id": "i_5d95J2EXqn",
        "outputId": "0a97d9f7-f979-4e7a-8394-e52862ea984f"
      },
      "execution_count": null,
      "outputs": [
        {
          "output_type": "stream",
          "name": "stdout",
          "text": [
            "Enter a number 6\n",
            "[4, 16, 36]\n"
          ]
        }
      ]
    },
    {
      "cell_type": "code",
      "source": [
        "num=int(input(\"Enter a number \"))\n",
        "l1=[i*i*i if i%3==0 else i*i if i%2==0 else i for i in range(1,num+1) ]\n",
        "print(l1)"
      ],
      "metadata": {
        "colab": {
          "base_uri": "https://localhost:8080/"
        },
        "id": "0S8s_CEOFO-j",
        "outputId": "95250f04-047b-46f2-9f31-f9111eb053b9"
      },
      "execution_count": null,
      "outputs": [
        {
          "output_type": "stream",
          "name": "stdout",
          "text": [
            "Enter a number 6\n",
            "[1, 4, 27, 16, 5, 216]\n"
          ]
        }
      ]
    }
  ]
}